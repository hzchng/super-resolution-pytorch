{
 "cells": [
  {
   "cell_type": "code",
   "execution_count": 1,
   "metadata": {},
   "outputs": [],
   "source": [
    "from src import checkpoint, data, metrics\n",
    "from src.device import device\n",
    "from src.model import SRCNN\n",
    "from src.utils import UtilSRCNN\n",
    "from torch import optim\n",
    "from torch.utils.data import DataLoader"
   ]
  },
  {
   "cell_type": "code",
   "execution_count": 2,
   "metadata": {},
   "outputs": [],
   "source": [
    "train_data = data.SRCNNData(\"data/T91/cropped\", transform=UtilSRCNN.transforms)\n",
    "eval_data_set5 = data.SRCNNData(\"data/test/Set5\", transform=UtilSRCNN.transforms)\n",
    "eval_data_set14 = data.SRCNNData(\"data/test/Set14\", transform=UtilSRCNN.transforms)\n",
    "\n",
    "train_loader = DataLoader(train_data, batch_size=16, shuffle=True, num_workers=2)\n",
    "eval_loader_set5 = DataLoader(eval_data_set5, batch_size=1, shuffle=False, num_workers=1)\n",
    "eval_loader_set14 = DataLoader(eval_data_set14, batch_size=1, shuffle=False, num_workers=1)"
   ]
  },
  {
   "cell_type": "code",
   "execution_count": 4,
   "metadata": {},
   "outputs": [],
   "source": [
    "model_name = \"srcnn-gaussian-0.55\"\n",
    "ckpt = checkpoint.load(f\"{model_name}/best.pt\", device=device)\n",
    "metric = metrics.MetricSRCNN()\n",
    "metric.load_checkpoint(ckpt)\n"
   ]
  },
  {
   "cell_type": "code",
   "execution_count": 6,
   "metadata": {},
   "outputs": [],
   "source": [
    "srcnn = SRCNN().to(device)\n",
    "# srcnn.load_state_dict(ckpt[\"model\"])\n",
    "srcnn.load_state_dict(ckpt[\"model\"])\n",
    "srcnn.train()\n",
    "\n",
    "optimizer = optim.SGD(\n",
    "    [\n",
    "        {\"params\": srcnn.block_1.parameters(), \"lr\": 1e-4},\n",
    "        {\"params\": srcnn.block_final.parameters(), \"lr\": 1e-5},\n",
    "    ],\n",
    "    momentum=0.9,\n",
    ")\n",
    "optimizer.load_state_dict(ckpt[\"optimizer\"])"
   ]
  },
  {
   "cell_type": "code",
   "execution_count": 8,
   "metadata": {},
   "outputs": [
    {
     "data": {
      "text/plain": [
       "(2, 3000)"
      ]
     },
     "execution_count": 8,
     "metadata": {},
     "output_type": "execute_result"
    }
   ],
   "source": [
    "start = metric.best_epoch\n",
    "end = 3000\n",
    "\n",
    "start, end"
   ]
  },
  {
   "cell_type": "code",
   "execution_count": null,
   "metadata": {},
   "outputs": [
    {
     "name": "stdout",
     "output_type": "stream",
     "text": [
      "Epoch: 2 loss: 0.03193, psnr: 14.99736\n",
      "  Eval (Set5): loss: 0.01465, psnr: 18.67755\n",
      "  Eval (Set14): loss: 0.01795, psnr: 17.74719\n",
      "  * New best psnr: 17.99202191202264\n",
      "Model saved to model/export/srcnn-gaussian-0.55/best.pt\n",
      "Model saved to model/export/srcnn-gaussian-0.55/2.pt\n",
      "Epoch: 3 loss: 0.02892, psnr: 15.43102\n",
      "  Eval (Set5): loss: 0.01325, psnr: 19.14385\n",
      "  Eval (Set14): loss: 0.01584, psnr: 18.28322\n",
      "  * New best psnr: 18.509701678627415\n",
      "Model saved to model/export/srcnn-gaussian-0.55/best.pt\n",
      "Epoch: 4 loss: 0.02585, psnr: 15.91511\n",
      "  Eval (Set5): loss: 0.01193, psnr: 19.63783\n",
      "  Eval (Set14): loss: 0.01382, psnr: 18.87186\n",
      "  * New best psnr: 19.073434227391292\n",
      "Model saved to model/export/srcnn-gaussian-0.55/best.pt\n",
      "Epoch: 5 loss: 0.02299, psnr: 16.41929\n",
      "  Eval (Set5): loss: 0.01072, psnr: 20.15387\n",
      "  Eval (Set14): loss: 0.01214, psnr: 19.44261\n",
      "  * New best psnr: 19.629781923796003\n",
      "Model saved to model/export/srcnn-gaussian-0.55/best.pt\n",
      "Epoch: 6 loss: 0.02071, psnr: 16.87472\n",
      "  Eval (Set5): loss: 0.00977, psnr: 20.60397\n",
      "  Eval (Set14): loss: 0.01099, psnr: 19.88647\n",
      "  * New best psnr: 20.075287567941768\n",
      "Model saved to model/export/srcnn-gaussian-0.55/best.pt\n"
     ]
    }
   ],
   "source": [
    "for i in range(start, end):\n",
    "    mean_loss, mean_psnr = UtilSRCNN.train(srcnn, optimizer, train_loader)\n",
    "    print(f\"Epoch: {i} loss: {mean_loss:.5f}, psnr: {mean_psnr:.5f}\")\n",
    "    metric.total_train_loss.append(mean_loss)\n",
    "    metric.total_train_psnr.append(mean_psnr)\n",
    "\n",
    "    mean_loss_set5, mean_psnr_set5 = UtilSRCNN.eval(srcnn, eval_loader_set5, metric)\n",
    "    metric.total_eval_loss_set5.append(mean_loss_set5)\n",
    "    metric.total_eval_psnr_set5.append(mean_psnr_set5)\n",
    "    print(f\"  Eval (Set5): loss: {mean_loss_set5:.5f}, psnr: {mean_psnr_set5:.5f}\")\n",
    "\n",
    "    mean_loss_set14, mean_psnr_set14 = UtilSRCNN.eval(srcnn, eval_loader_set14, metric)\n",
    "    metric.total_eval_loss_set14.append(mean_loss_set14)\n",
    "    metric.total_eval_psnr_set14.append(mean_psnr_set14)\n",
    "    print(f\"  Eval (Set14): loss: {mean_loss_set14:.5f}, psnr: {mean_psnr_set14:.5f}\")\n",
    "\n",
    "    curr_psnr = metric.get_eval_score()\n",
    "    if curr_psnr > metric.best_psnr:\n",
    "        print(f\"  * New best psnr: {curr_psnr}\")\n",
    "        metric.best_epoch = i\n",
    "        metric.best_psnr = curr_psnr\n",
    "\n",
    "        checkpoint.save(\n",
    "            name=f\"{model_name}/best.pt\",\n",
    "            model=srcnn.state_dict(),\n",
    "            optimizer=optimizer.state_dict(),\n",
    "            **metric.save_checkpoint(),\n",
    "        )\n",
    "\n",
    "    if not (i + 1) % 100 or i == end - 1 or i == 0:\n",
    "        metric.best_epoch = i\n",
    "        checkpoint.save(\n",
    "            name=f\"{model_name}/{i}.pt\",\n",
    "            model=srcnn.state_dict(),\n",
    "            optimizer=optimizer.state_dict(),\n",
    "            **metric.save_checkpoint(),\n",
    "        )\n"
   ]
  },
  {
   "cell_type": "code",
   "execution_count": null,
   "metadata": {},
   "outputs": [],
   "source": []
  }
 ],
 "metadata": {
  "kernelspec": {
   "display_name": ".venv",
   "language": "python",
   "name": "python3"
  },
  "language_info": {
   "codemirror_mode": {
    "name": "ipython",
    "version": 3
   },
   "file_extension": ".py",
   "mimetype": "text/x-python",
   "name": "python",
   "nbconvert_exporter": "python",
   "pygments_lexer": "ipython3",
   "version": "3.12.8"
  }
 },
 "nbformat": 4,
 "nbformat_minor": 2
}
